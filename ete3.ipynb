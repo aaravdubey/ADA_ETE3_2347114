{
 "cells": [
  {
   "cell_type": "code",
   "execution_count": 12,
   "metadata": {},
   "outputs": [
    {
     "name": "stderr",
     "output_type": "stream",
     "text": [
      "\u001b[32m2024-08-18 17:01:14.607\u001b[0m | \u001b[1mINFO    \u001b[0m | \u001b[36msearch_responses\u001b[0m:\u001b[36mscrape_location_data\u001b[0m:\u001b[36m25\u001b[0m - \u001b[1mscraping location data: Goa\u001b[0m\n",
      "\u001b[32m2024-08-18 17:01:15.040\u001b[0m | \u001b[1mINFO    \u001b[0m | \u001b[36msearch_responses\u001b[0m:\u001b[36mscrape_location_data\u001b[0m:\u001b[36m99\u001b[0m - \u001b[1mfound 10 results\u001b[0m\n",
      "\u001b[32m2024-08-18 17:01:15.041\u001b[0m | \u001b[32m\u001b[1mSUCCESS \u001b[0m | \u001b[36mscrape_search\u001b[0m:\u001b[36mscrape_search_hotel_urls\u001b[0m:\u001b[36m64\u001b[0m - \u001b[32m\u001b[1mfound hotel search url: https://www.tripadvisor.com/Hotels-g297604-Goa-Hotels.html\u001b[0m\n",
      "\u001b[32m2024-08-18 17:01:16.384\u001b[0m | \u001b[1mINFO    \u001b[0m | \u001b[36mscrape_search\u001b[0m:\u001b[36mparse_search_page\u001b[0m:\u001b[36m22\u001b[0m - \u001b[1mparsing search page: https://www.tripadvisor.com/Hotels-g297604-Goa-Hotels.html\u001b[0m\n",
      "\u001b[32m2024-08-18 17:01:16.433\u001b[0m | \u001b[34m\u001b[1mDEBUG   \u001b[0m | \u001b[36mscrape_search\u001b[0m:\u001b[36mscrape_search_hotel_urls\u001b[0m:\u001b[36m90\u001b[0m - \u001b[34m\u001b[1mGoa: only scraping 5 max pages from 243 total\u001b[0m\n",
      "\u001b[32m2024-08-18 17:01:16.435\u001b[0m | \u001b[1mINFO    \u001b[0m | \u001b[36mscrape_search\u001b[0m:\u001b[36mscrape_search_hotel_urls\u001b[0m:\u001b[36m96\u001b[0m - \u001b[1mGoa: found total_results=7261, page_size=30. Scraping 5 pagination pages\u001b[0m\n",
      "\u001b[32m2024-08-18 17:01:17.504\u001b[0m | \u001b[1mINFO    \u001b[0m | \u001b[36mscrape_search\u001b[0m:\u001b[36mparse_search_page\u001b[0m:\u001b[36m22\u001b[0m - \u001b[1mparsing search page: https://www.tripadvisor.com/Hotels-g297604-oa90-Goa-Hotels.html\u001b[0m\n",
      "\u001b[32m2024-08-18 17:01:17.566\u001b[0m | \u001b[1mINFO    \u001b[0m | \u001b[36mscrape_search\u001b[0m:\u001b[36mparse_search_page\u001b[0m:\u001b[36m22\u001b[0m - \u001b[1mparsing search page: https://www.tripadvisor.com/Hotels-g297604-oa120-Goa-Hotels.html\u001b[0m\n",
      "\u001b[32m2024-08-18 17:01:17.662\u001b[0m | \u001b[1mINFO    \u001b[0m | \u001b[36mscrape_search\u001b[0m:\u001b[36mparse_search_page\u001b[0m:\u001b[36m22\u001b[0m - \u001b[1mparsing search page: https://www.tripadvisor.com/Hotels-g297604-oa30-Goa-Hotels.html\u001b[0m\n",
      "\u001b[32m2024-08-18 17:01:17.716\u001b[0m | \u001b[1mINFO    \u001b[0m | \u001b[36mscrape_search\u001b[0m:\u001b[36mparse_search_page\u001b[0m:\u001b[36m22\u001b[0m - \u001b[1mparsing search page: https://www.tripadvisor.com/Hotels-g297604-oa60-Goa-Hotels.html\u001b[0m\n",
      "\u001b[32m2024-08-18 17:01:17.756\u001b[0m | \u001b[32m\u001b[1mSUCCESS \u001b[0m | \u001b[36mscrape_search\u001b[0m:\u001b[36mscrape_search_hotel_urls\u001b[0m:\u001b[36m109\u001b[0m - \u001b[32m\u001b[1mScraped 150 search results for Goa\u001b[0m\n"
     ]
    }
   ],
   "source": [
    "from scrape_search import scrape_search_hotel_urls\n",
    "\n",
    "urls = await scrape_search_hotel_urls(\"Goa\", max_pages=5)"
   ]
  },
  {
   "cell_type": "code",
   "execution_count": 13,
   "metadata": {},
   "outputs": [
    {
     "name": "stderr",
     "output_type": "stream",
     "text": [
      "\u001b[32m2024-08-18 17:01:17.779\u001b[0m | \u001b[32m\u001b[1mSUCCESS \u001b[0m | \u001b[36mscrape_search\u001b[0m:\u001b[36msave_to_csv\u001b[0m:\u001b[36m128\u001b[0m - \u001b[32m\u001b[1mData saved to datasets\\Goa.csv\u001b[0m\n"
     ]
    }
   ],
   "source": [
    "from scrape_search import save_to_csv\n",
    "import pandas as pd\n",
    "\n",
    "save_to_csv(urls, \"Goa.csv\")"
   ]
  },
  {
   "cell_type": "code",
   "execution_count": 14,
   "metadata": {},
   "outputs": [
    {
     "data": {
      "text/html": [
       "<div>\n",
       "<style scoped>\n",
       "    .dataframe tbody tr th:only-of-type {\n",
       "        vertical-align: middle;\n",
       "    }\n",
       "\n",
       "    .dataframe tbody tr th {\n",
       "        vertical-align: top;\n",
       "    }\n",
       "\n",
       "    .dataframe thead th {\n",
       "        text-align: right;\n",
       "    }\n",
       "</style>\n",
       "<table border=\"1\" class=\"dataframe\">\n",
       "  <thead>\n",
       "    <tr style=\"text-align: right;\">\n",
       "      <th></th>\n",
       "      <th>url</th>\n",
       "      <th>name</th>\n",
       "    </tr>\n",
       "  </thead>\n",
       "  <tbody>\n",
       "    <tr>\n",
       "      <th>0</th>\n",
       "      <td>https://www.tripadvisor.com/Hotel_Review-g3069...</td>\n",
       "      <td>Zone Connect by The Park Calangute Goa</td>\n",
       "    </tr>\n",
       "    <tr>\n",
       "      <th>1</th>\n",
       "      <td>https://www.tripadvisor.com/Hotel_Review-g3069...</td>\n",
       "      <td>Summit Calangute Resort And Spa</td>\n",
       "    </tr>\n",
       "    <tr>\n",
       "      <th>2</th>\n",
       "      <td>https://www.tripadvisor.com/Hotel_Review-g3038...</td>\n",
       "      <td>Goa Marriott Resort &amp; Spa</td>\n",
       "    </tr>\n",
       "    <tr>\n",
       "      <th>3</th>\n",
       "      <td>https://www.tripadvisor.com/Hotel_Review-g3069...</td>\n",
       "      <td>The LaLiT Golf &amp; Spa Resort Goa</td>\n",
       "    </tr>\n",
       "    <tr>\n",
       "      <th>4</th>\n",
       "      <td>https://www.tripadvisor.com/Hotel_Review-g7759...</td>\n",
       "      <td>Holiday Inn Resort Goa, An IHG Hotel</td>\n",
       "    </tr>\n",
       "  </tbody>\n",
       "</table>\n",
       "</div>"
      ],
      "text/plain": [
       "                                                 url  \\\n",
       "0  https://www.tripadvisor.com/Hotel_Review-g3069...   \n",
       "1  https://www.tripadvisor.com/Hotel_Review-g3069...   \n",
       "2  https://www.tripadvisor.com/Hotel_Review-g3038...   \n",
       "3  https://www.tripadvisor.com/Hotel_Review-g3069...   \n",
       "4  https://www.tripadvisor.com/Hotel_Review-g7759...   \n",
       "\n",
       "                                     name  \n",
       "0  Zone Connect by The Park Calangute Goa  \n",
       "1         Summit Calangute Resort And Spa  \n",
       "2               Goa Marriott Resort & Spa  \n",
       "3         The LaLiT Golf & Spa Resort Goa  \n",
       "4    Holiday Inn Resort Goa, An IHG Hotel  "
      ]
     },
     "execution_count": 14,
     "metadata": {},
     "output_type": "execute_result"
    }
   ],
   "source": [
    "hotels = pd.read_csv(\"./datasets/Goa.csv\")\n",
    "hotels.head()"
   ]
  },
  {
   "cell_type": "code",
   "execution_count": 15,
   "metadata": {},
   "outputs": [
    {
     "name": "stderr",
     "output_type": "stream",
     "text": [
      "\u001b[32m2024-08-18 17:01:20.941\u001b[0m | \u001b[1mINFO    \u001b[0m | \u001b[36mscrape_reviews\u001b[0m:\u001b[36mscrape_hotel_reviews\u001b[0m:\u001b[36m97\u001b[0m - \u001b[1mscraped 100 reviews from https://www.tripadvisor.in/Hotel_Review-g303891-d1656706-Reviews-Capital_O_39676_Country_Spa_Wellness_Resort-Kovalam_Kanchipuram_District_Tamil_Nadu.html\u001b[0m\n",
      "\u001b[32m2024-08-18 17:01:21.056\u001b[0m | \u001b[32m\u001b[1mSUCCESS \u001b[0m | \u001b[36mscrape_reviews\u001b[0m:\u001b[36msave_to_csv\u001b[0m:\u001b[36m126\u001b[0m - \u001b[32m\u001b[1mSaved 100 reviews to Capital_O_39676_Country_Spa_Wellness_Resort_reviews.csv\u001b[0m\n"
     ]
    }
   ],
   "source": [
    "from scrape_reviews import scrape_hotel_reviews, save_to_csv\n",
    "\n",
    "url = \"https://www.tripadvisor.in/Hotel_Review-g303891-d1656706-Reviews-Capital_O_39676_Country_Spa_Wellness_Resort-Kovalam_Kanchipuram_District_Tamil_Nadu.html\" \n",
    "hotel_data = await scrape_hotel_reviews(url, max_review_pages=10)\n",
    "\n",
    "filename = save_to_csv(hotel_data, url)\n",
    "\n",
    "# hotel_data = await scrape_hotel_reviews(hotels['url'][0], max_review_pages=10)\n",
    "\n",
    "# filename = save_to_csv(hotel_data, hotels['url'][0])"
   ]
  },
  {
   "cell_type": "code",
   "execution_count": 16,
   "metadata": {},
   "outputs": [
    {
     "name": "stdout",
     "output_type": "stream",
     "text": [
      "(100, 4)\n"
     ]
    },
    {
     "data": {
      "text/html": [
       "<div>\n",
       "<style scoped>\n",
       "    .dataframe tbody tr th:only-of-type {\n",
       "        vertical-align: middle;\n",
       "    }\n",
       "\n",
       "    .dataframe tbody tr th {\n",
       "        vertical-align: top;\n",
       "    }\n",
       "\n",
       "    .dataframe thead th {\n",
       "        text-align: right;\n",
       "    }\n",
       "</style>\n",
       "<table border=\"1\" class=\"dataframe\">\n",
       "  <thead>\n",
       "    <tr style=\"text-align: right;\">\n",
       "      <th></th>\n",
       "      <th>Title</th>\n",
       "      <th>Text</th>\n",
       "      <th>Rating</th>\n",
       "      <th>Trip Date</th>\n",
       "    </tr>\n",
       "  </thead>\n",
       "  <tbody>\n",
       "    <tr>\n",
       "      <th>0</th>\n",
       "      <td>Excellent Location, Nice Property but Poor Mai...</td>\n",
       "      <td>This is my visit to Kovalam. I stayed in this ...</td>\n",
       "      <td>3</td>\n",
       "      <td>July 2013</td>\n",
       "    </tr>\n",
       "    <tr>\n",
       "      <th>1</th>\n",
       "      <td>Relaxing stay and Spa</td>\n",
       "      <td>We decided to choose this resort because of me...</td>\n",
       "      <td>4</td>\n",
       "      <td>October 2014</td>\n",
       "    </tr>\n",
       "    <tr>\n",
       "      <th>2</th>\n",
       "      <td>BED EXPIRIENCE</td>\n",
       "      <td>hotel staff is not so good,average hotel,hotel...</td>\n",
       "      <td>2</td>\n",
       "      <td>October 2014</td>\n",
       "    </tr>\n",
       "    <tr>\n",
       "      <th>3</th>\n",
       "      <td>Pathetic</td>\n",
       "      <td>My worst experience during the last two days o...</td>\n",
       "      <td>1</td>\n",
       "      <td>April 2012</td>\n",
       "    </tr>\n",
       "    <tr>\n",
       "      <th>4</th>\n",
       "      <td>terrible</td>\n",
       "      <td>When we reached there we were happy to see the...</td>\n",
       "      <td>1</td>\n",
       "      <td>February 2012</td>\n",
       "    </tr>\n",
       "  </tbody>\n",
       "</table>\n",
       "</div>"
      ],
      "text/plain": [
       "                                               Title  \\\n",
       "0  Excellent Location, Nice Property but Poor Mai...   \n",
       "1                              Relaxing stay and Spa   \n",
       "2                                     BED EXPIRIENCE   \n",
       "3                                           Pathetic   \n",
       "4                                           terrible   \n",
       "\n",
       "                                                Text  Rating      Trip Date  \n",
       "0  This is my visit to Kovalam. I stayed in this ...       3      July 2013  \n",
       "1  We decided to choose this resort because of me...       4   October 2014  \n",
       "2  hotel staff is not so good,average hotel,hotel...       2   October 2014  \n",
       "3  My worst experience during the last two days o...       1     April 2012  \n",
       "4  When we reached there we were happy to see the...       1  February 2012  "
      ]
     },
     "execution_count": 16,
     "metadata": {},
     "output_type": "execute_result"
    }
   ],
   "source": [
    "reviews_df = pd.read_csv(\"./datasets/\" + filename)\n",
    "print(reviews_df.shape)\n",
    "reviews_df.head()"
   ]
  },
  {
   "cell_type": "markdown",
   "metadata": {},
   "source": [
    "**1. Supervised Sentiment Analysis (Multiclass Classification)**"
   ]
  },
  {
   "cell_type": "code",
   "execution_count": 17,
   "metadata": {},
   "outputs": [
    {
     "name": "stdout",
     "output_type": "stream",
     "text": [
      "   Rating  Sentiment\n",
      "0       3          1\n",
      "1       4          2\n",
      "2       2          0\n",
      "3       1          0\n",
      "4       1          0\n"
     ]
    },
    {
     "data": {
      "text/plain": [
       "4    25\n",
       "1    23\n",
       "3    21\n",
       "2    20\n",
       "5    11\n",
       "Name: Rating, dtype: int64"
      ]
     },
     "execution_count": 17,
     "metadata": {},
     "output_type": "execute_result"
    }
   ],
   "source": [
    "# Creating labels for the reviews using the ratings\n",
    "# Ratings: 1, 2 - Negative, 3 - Neutral, 4, 5 - Positive\n",
    "# Sentiment: 0 - Negative, 1 - Neutral, 2 - Positive\n",
    "\n",
    "def categorize_rating(rating):\n",
    "    if rating in [1, 2]:\n",
    "        return 0\n",
    "    elif rating == 3:\n",
    "        return 1\n",
    "    else:\n",
    "        return 2\n",
    "\n",
    "reviews_df['Sentiment'] = reviews_df['Rating'].apply(categorize_rating)\n",
    "\n",
    "print(reviews_df[['Rating', 'Sentiment']].head())\n",
    "reviews_df[\"Rating\"].value_counts()\n"
   ]
  },
  {
   "cell_type": "code",
   "execution_count": 22,
   "metadata": {},
   "outputs": [
    {
     "data": {
      "image/png": "[encoded data removed]",
      "text/plain": [
       "<Figure size 1440x504 with 15 Axes>"
      ]
     },
     "metadata": {
      "needs_background": "light"
     },
     "output_type": "display_data"
    },
    {
     "name": "stdout",
     "output_type": "stream",
     "text": [
      "                         Accuracy  F1 Score\n",
      "Multinomial Naive Bayes      0.80  0.711250\n",
      "Logistic Regression          0.80  0.711250\n",
      "SVM                          0.75  0.666250\n",
      "Random Forest                0.75  0.667183\n",
      "XGBoost                      0.60  0.570833\n"
     ]
    }
   ],
   "source": [
    "from sklearn.feature_extraction.text import ENGLISH_STOP_WORDS\n",
    "import re\n",
    "from nltk.stem import PorterStemmer\n",
    "from nltk.tokenize import word_tokenize\n",
    "from sklearn.model_selection import train_test_split\n",
    "from sklearn.feature_extraction.text import TfidfVectorizer\n",
    "from sklearn.naive_bayes import MultinomialNB\n",
    "from sklearn.linear_model import LogisticRegression\n",
    "from sklearn.svm import SVC\n",
    "from sklearn.ensemble import RandomForestClassifier\n",
    "from xgboost import XGBClassifier\n",
    "from sklearn.metrics import accuracy_score, f1_score\n",
    "import pandas as pd\n",
    "import matplotlib.pyplot as plt\n",
    "import seaborn as sns\n",
    "from sklearn.metrics import confusion_matrix\n",
    "import warnings\n",
    "warnings.filterwarnings(\"ignore\")\n",
    "\n",
    "# Step 1: Combine title and text & Preprocess the text data\n",
    "reviews_df['Combined'] = reviews_df['Title'] + ' ' + reviews_df['Text']\n",
    "\n",
    "stemmer = PorterStemmer()\n",
    "\n",
    "def preprocess_text(text):\n",
    "    text = text.lower()\n",
    "    \n",
    "    text = re.sub(r'http\\S+|www\\S+|https\\S+', '', text, flags=re.MULTILINE)\n",
    "    \n",
    "    text = re.sub(r'[^\\w\\s]', '', text)\n",
    "    \n",
    "    text = re.sub(r'\\s+', ' ', text).strip()\n",
    "    \n",
    "    tokens = word_tokenize(text)\n",
    "    tokens = [stemmer.stem(word) for word in tokens if word not in ENGLISH_STOP_WORDS]\n",
    "    \n",
    "    return ' '.join(tokens)\n",
    "\n",
    "reviews_df['Combined'] = reviews_df['Combined'].apply(preprocess_text)\n",
    "\n",
    "# Step 2: Split the data into training and testing sets\n",
    "X_train, X_test, y_train, y_test = train_test_split(reviews_df['Combined'], reviews_df['Sentiment'], test_size=0.2, random_state=42)\n",
    "\n",
    "# Step 3: Convert the text data into numerical form using TF-IDF\n",
    "vectorizer = TfidfVectorizer(max_features=500)\n",
    "X_train_tfidf = vectorizer.fit_transform(X_train)\n",
    "X_test_tfidf = vectorizer.transform(X_test)\n",
    "\n",
    "# Step 4: Define the models, including MultinomialNB\n",
    "models = {\n",
    "    \"Multinomial Naive Bayes\": MultinomialNB(),\n",
    "    \"Logistic Regression\": LogisticRegression(random_state=42, max_iter=1000),\n",
    "    \"SVM\": SVC(random_state=42),\n",
    "    \"Random Forest\": RandomForestClassifier(random_state=42),\n",
    "    \"XGBoost\": XGBClassifier(random_state=42, use_label_encoder=False, eval_metric='mlogloss')\n",
    "}\n",
    "\n",
    "# Step 5: Train and evaluate each model\n",
    "performance_metrics = {}\n",
    "conf_matrices = {}\n",
    "\n",
    "for model_name, model in models.items():\n",
    "    model.fit(X_train_tfidf, y_train)\n",
    "    \n",
    "    y_pred = model.predict(X_test_tfidf)\n",
    "    \n",
    "    accuracy = accuracy_score(y_test, y_pred)\n",
    "    f1 = f1_score(y_test, y_pred, average='weighted')\n",
    "    \n",
    "    performance_metrics[model_name] = {\n",
    "        \"Accuracy\": accuracy,\n",
    "        \"F1 Score\": f1\n",
    "    }\n",
    "    \n",
    "    conf_matrix = confusion_matrix(y_test, y_pred)\n",
    "    conf_matrices[model_name] = conf_matrix\n",
    "\n",
    "# Step 6: Plot the performance metrics and confusion matrices\n",
    "num_models = len(models)\n",
    "fig, axes = plt.subplots(nrows=2, ncols=num_models, figsize=(20, 7))\n",
    "\n",
    "for idx, (model_name, metrics) in enumerate(performance_metrics.items()):\n",
    "    axes[0, idx].bar([\"Accuracy\", \"F1 Score\"], [metrics[\"Accuracy\"], metrics[\"F1 Score\"]], color=['blue', 'orange'])\n",
    "    axes[0, idx].set_ylim(0, 1)\n",
    "    axes[0, idx].set_title(f\"{model_name} Performance\")\n",
    "    axes[0, idx].set_ylabel(\"Score\")\n",
    "    \n",
    "for idx, (model_name, conf_matrix) in enumerate(conf_matrices.items()):\n",
    "    sns.heatmap(conf_matrix, annot=True, fmt='d', cmap='Blues', ax=axes[1, idx])\n",
    "    axes[1, idx].set_title(f\"{model_name} Confusion Matrix\")\n",
    "    axes[1, idx].set_xlabel(\"Predicted Label\")\n",
    "    axes[1, idx].set_ylabel(\"True Label\")\n",
    "\n",
    "plt.tight_layout()\n",
    "plt.show()\n",
    "\n",
    "performance_df = pd.DataFrame(performance_metrics).T\n",
    "print(performance_df)"
   ]
  },
  {
   "cell_type": "markdown",
   "metadata": {},
   "source": [
    "1. **Multinomial Naive Bayes:** Achieves 80% accuracy and a balanced F1 Score of 0.711, indicating strong overall performance in sentiment classification.\n",
    "\n",
    "2. **Logistic Regression:** Matches Naive Bayes with 80% accuracy and an F1 Score of 0.711, demonstrating effective sentiment analysis with a good balance between Precision and Recall.\n",
    "\n",
    "3. **SVM (Support Vector Machine):** Shows 75% accuracy and a lower F1 Score of 0.666, suggesting slightly less effective performance in balancing Precision and Recall.\n",
    "\n",
    "4. **Random Forest:** Delivers 75% accuracy and a slightly better F1 Score of 0.667, indicating comparable performance to SVM with a marginally better balance between Precision and Recall.\n",
    "\n",
    "5. **XGBoost:** Performs the weakest with 60% accuracy and an F1 Score of 0.570, reflecting lower effectiveness in sentiment classification."
   ]
  },
  {
   "cell_type": "code",
   "execution_count": 23,
   "metadata": {},
   "outputs": [
    {
     "name": "stdout",
     "output_type": "stream",
     "text": [
      "Cross-Validation Accuracy: 0.6375 ± 0.0468\n",
      "Bagging Accuracy: 0.8000\n",
      "Bagging F1 Score: 0.7113\n",
      "Boosting Accuracy: 0.6500\n",
      "Boosting F1 Score: 0.5755\n"
     ]
    }
   ],
   "source": [
    "from sklearn.model_selection import cross_val_score, StratifiedKFold\n",
    "from sklearn.ensemble import BaggingClassifier, AdaBoostClassifier\n",
    "from sklearn.linear_model import LogisticRegression\n",
    "import numpy as np\n",
    "\n",
    "log_reg = LogisticRegression(random_state=42, max_iter=1000, penalty='l2')\n",
    "\n",
    "# 1. Cross-Validation\n",
    "cv = StratifiedKFold(n_splits=5, shuffle=True, random_state=42)\n",
    "cv_scores = cross_val_score(log_reg, X_train_tfidf, y_train, cv=cv, scoring='accuracy')\n",
    "\n",
    "print(f\"Cross-Validation Accuracy: {np.mean(cv_scores):.4f} ± {np.std(cv_scores):.4f}\")\n",
    "\n",
    "# 2. Bagging with Logistic Regression\n",
    "bagging_clf = BaggingClassifier(base_estimator=log_reg, n_estimators=10, random_state=42)\n",
    "bagging_clf.fit(X_train_tfidf, y_train)\n",
    "y_pred_bagging = bagging_clf.predict(X_test_tfidf)\n",
    "\n",
    "print(f\"Bagging Accuracy: {accuracy_score(y_test, y_pred_bagging):.4f}\")\n",
    "print(f\"Bagging F1 Score: {f1_score(y_test, y_pred_bagging, average='weighted'):.4f}\")\n",
    "\n",
    "# 3. Boosting with Logistic Regression (using AdaBoost)\n",
    "boosting_clf = AdaBoostClassifier(base_estimator=log_reg, n_estimators=50, random_state=42)\n",
    "boosting_clf.fit(X_train_tfidf, y_train)\n",
    "y_pred_boosting = boosting_clf.predict(X_test_tfidf)\n",
    "\n",
    "print(f\"Boosting Accuracy: {accuracy_score(y_test, y_pred_boosting):.4f}\")\n",
    "print(f\"Boosting F1 Score: {f1_score(y_test, y_pred_boosting, average='weighted'):.4f}\")\n"
   ]
  },
  {
   "cell_type": "markdown",
   "metadata": {},
   "source": [
    "- The normal Logistic Regression model shows strong performance with 80% accuracy and a well-balanced F1 Score of 0.711. \n",
    "\n",
    "- Bagging maintains this high accuracy and F1 Score, enhancing model stability. \n",
    "\n",
    "- In contrast, Boosting decreases both accuracy (65%) and F1 Score (0.5755), suggesting it may not be as effective for this sentiment analysis task."
   ]
  },
  {
   "cell_type": "code",
   "execution_count": 24,
   "metadata": {},
   "outputs": [
    {
     "name": "stdout",
     "output_type": "stream",
     "text": [
      "Accuracy: 0.8000\n",
      "F1 Score: 0.7113\n"
     ]
    }
   ],
   "source": [
    "from sklearn.decomposition import PCA\n",
    "from sklearn.linear_model import LogisticRegression\n",
    "from sklearn.metrics import accuracy_score, f1_score\n",
    "\n",
    "# Apply PCA to the TF-IDF features\n",
    "pca = PCA(n_components=50)  # Adjust n_components as needed\n",
    "X_train_pca = pca.fit_transform(X_train_tfidf.toarray())\n",
    "X_test_pca = pca.transform(X_test_tfidf.toarray())\n",
    "\n",
    "model = LogisticRegression(max_iter=1000)  # You might need to adjust max_iter based on convergence\n",
    "model.fit(X_train_pca, y_train)\n",
    "\n",
    "y_pred = model.predict(X_test_pca)\n",
    "\n",
    "accuracy = accuracy_score(y_test, y_pred)\n",
    "f1 = f1_score(y_test, y_pred, average='weighted')\n",
    "\n",
    "print(f'Accuracy: {accuracy:.4f}')\n",
    "print(f'F1 Score: {f1:.4f}')\n"
   ]
  },
  {
   "cell_type": "markdown",
   "metadata": {},
   "source": [
    "After applying PCA (Principal Component Analysis), the Logistic Regression model maintains strong performance with an accuracy of 80% and an F1 Score of 0.7113, indicating that dimensionality reduction did not negatively impact the model's ability to effectively classify sentiment, but also did not improve the performance."
   ]
  },
  {
   "cell_type": "markdown",
   "metadata": {},
   "source": [
    "**2. Lexicon-Based Sentiment Analysis**"
   ]
  },
  {
   "cell_type": "code",
   "execution_count": 28,
   "metadata": {},
   "outputs": [
    {
     "name": "stdout",
     "output_type": "stream",
     "text": [
      "   Rating  Lexicon Sentiment  Lexicon Sentiment Category\n",
      "0       3             0.8225                           2\n",
      "1       4             0.9923                           2\n",
      "2       2             0.4588                           2\n",
      "3       1            -0.8885                           0\n",
      "4       1             0.4215                           2\n",
      "\n",
      "Accuracy: 0.6000\n",
      "F1 Score: 0.5392\n"
     ]
    }
   ],
   "source": [
    "from vaderSentiment.vaderSentiment import SentimentIntensityAnalyzer\n",
    "\n",
    "# Step 1: Initialize the VADER sentiment analyzer\n",
    "analyzer = SentimentIntensityAnalyzer()\n",
    "\n",
    "# Step 2: Apply sentiment analysis to each review\n",
    "reviews_df['Lexicon Sentiment'] = reviews_df['Combined'].apply(lambda x: analyzer.polarity_scores(x)['compound'])\n",
    "\n",
    "# Step 3: Categorize the sentiment as positive, neutral, or negative\n",
    "def categorize_compound(compound):\n",
    "    if compound >= 0.05:\n",
    "        return 2\n",
    "    elif compound <= -0.05:\n",
    "        return 0\n",
    "    else:\n",
    "        return 1\n",
    "\n",
    "reviews_df['Lexicon Sentiment Category'] = reviews_df['Lexicon Sentiment'].apply(categorize_compound)\n",
    "\n",
    "print(reviews_df[['Rating', 'Lexicon Sentiment', 'Lexicon Sentiment Category']].head())\n",
    "\n",
    "# Step 4: Evaluate the performance of the VADER sentiment analysis\n",
    "accuracy = accuracy_score(reviews_df['Sentiment'], reviews_df['Lexicon Sentiment Category'])\n",
    "f1 = f1_score(reviews_df['Sentiment'], reviews_df['Lexicon Sentiment Category'], average='weighted')\n",
    "\n",
    "print(f'\\nAccuracy: {accuracy:.4f}')\n",
    "print(f'F1 Score: {f1:.4f}')"
   ]
  },
  {
   "cell_type": "markdown",
   "metadata": {},
   "source": [
    "The `SentimentIntensityAnalyzer` from VADER achieves an accuracy of 60% and an F1 Score of 0.5392. This suggests that while it captures sentiment reasonably well, it is less effective than some other models (e.g., Logistic Regression) in balancing Precision and Recall for this sentiment analysis task."
   ]
  }
 ],
 "metadata": {
  "kernelspec": {
   "display_name": "Python 3",
   "language": "python",
   "name": "python3"
  },
  "language_info": {
   "codemirror_mode": {
    "name": "ipython",
    "version": 3
   },
   "file_extension": ".py",
   "mimetype": "text/x-python",
   "name": "python",
   "nbconvert_exporter": "python",
   "pygments_lexer": "ipython3",
   "version": "3.10.0"
  }
 },
 "nbformat": 4,
 "nbformat_minor": 2
}
